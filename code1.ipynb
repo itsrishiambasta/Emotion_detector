{
 "cells": [
  {
   "cell_type": "code",
   "execution_count": 1,
   "id": "e64d75f3",
   "metadata": {},
   "outputs": [
    {
     "name": "stdout",
     "output_type": "stream",
     "text": [
      "Found 28709 images belonging to 7 classes.\n",
      "Found 7178 images belonging to 7 classes.\n"
     ]
    }
   ],
   "source": [
    "import os\n",
    "from tensorflow.keras.preprocessing.image import ImageDataGenerator\n",
    "\n",
    "# ✅ Step 1: Set path to dataset folders\n",
    "train_dir = \"F:/emotion_detector/archive (1)/train\"\n",
    "test_dir = \"F:/emotion_detector/archive (1)/test\"\n",
    "\n",
    "# ✅ Step 2: Define image properties\n",
    "img_size = (48, 48)   # most emotion datasets use 48x48\n",
    "batch_size = 64       # change to 32 if RAM is low\n",
    "\n",
    "# ✅ Step 3: Data Augmentation and Normalization\n",
    "train_datagen = ImageDataGenerator(\n",
    "    rescale=1./255,              # normalize pixel values\n",
    "    horizontal_flip=True,        # flip images left-right\n",
    "    zoom_range=0.2,              # random zoom\n",
    "    rotation_range=10            # small rotations\n",
    ")\n",
    "\n",
    "test_datagen = ImageDataGenerator(rescale=1./255)  # only normalize test images\n",
    "\n",
    "# ✅ Step 4: Create generators\n",
    "train_generator = train_datagen.flow_from_directory(\n",
    "    train_dir,\n",
    "    target_size=img_size,\n",
    "    batch_size=batch_size,\n",
    "    color_mode='grayscale',       # or 'rgb' if dataset is colored\n",
    "    class_mode='categorical'      # one-hot encoding for multi-class\n",
    ")\n",
    "\n",
    "test_generator = test_datagen.flow_from_directory(\n",
    "    test_dir,\n",
    "    target_size=img_size,\n",
    "    batch_size=batch_size,\n",
    "    color_mode='grayscale',\n",
    "    class_mode='categorical'\n",
    ")\n"
   ]
  }
 ],
 "metadata": {
  "kernelspec": {
   "display_name": "base",
   "language": "python",
   "name": "python3"
  },
  "language_info": {
   "codemirror_mode": {
    "name": "ipython",
    "version": 3
   },
   "file_extension": ".py",
   "mimetype": "text/x-python",
   "name": "python",
   "nbconvert_exporter": "python",
   "pygments_lexer": "ipython3",
   "version": "3.12.7"
  }
 },
 "nbformat": 4,
 "nbformat_minor": 5
}
